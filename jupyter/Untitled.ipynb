{
 "cells": [
  {
   "cell_type": "code",
   "execution_count": 1,
   "metadata": {},
   "outputs": [
    {
     "data": {
      "application/vnd.jupyter.widget-view+json": {
       "model_id": "4c819a9c92814ebd8a24842d518ed73c",
       "version_major": 2,
       "version_minor": 0
      },
      "text/plain": [
       "Map(center=[40, -2], controls=(ZoomControl(options=['position', 'zoom_in_text', 'zoom_in_title', 'zoom_out_tex…"
      ]
     },
     "metadata": {},
     "output_type": "display_data"
    },
    {
     "name": "stdout",
     "output_type": "stream",
     "text": [
      "{'type': 'Feature', 'properties': {'style': {'stroke': True, 'color': '#efed69', 'weight': 4, 'opacity': 0.5, 'fill': True, 'fillColor': None, 'fillOpacity': 0.2, 'clickable': True, 'radius': 22497.689822625925}}, 'geometry': {'type': 'Point', 'coordinates': [-3.550212, 40.659667]}}\n",
      "{'type': 'Feature', 'properties': {'style': {'stroke': True, 'color': '#efed69', 'weight': 4, 'opacity': 0.5, 'fill': True, 'fillColor': None, 'fillOpacity': 0.2, 'clickable': True, 'radius': 2139.791852366491}}, 'geometry': {'type': 'Point', 'coordinates': [-3.960363, 40.775827]}}\n"
     ]
    }
   ],
   "source": [
    "from ipyleaflet import Map, basemaps, DrawControl\n",
    "map = Map(\n",
    "    center = ( 40, -2 ), \n",
    "    zoom = 8,\n",
    "    basemap = basemaps.OpenTopoMap\n",
    ")\n",
    "\n",
    "draw_control = DrawControl()\n",
    "\n",
    "draw_control.circle = {\n",
    "    \"shapeOptions\": {\n",
    "        \"fillColor\": None,\n",
    "        \"color\": \"#efed69\",\n",
    "        \"fillOpacity\": 0.2\n",
    "    }\n",
    "}\n",
    "\n",
    "coordinates = []\n",
    "\n",
    "def store_point( self, action, geo_json):\n",
    "    global coordinates\n",
    "    print(geo_json)\n",
    "    coordinates = geo_json['geometry']['coordinates']\n",
    "    \n",
    "draw_control.on_draw(store_point)\n",
    "\n",
    "map.add_control(draw_control)\n",
    "\n",
    "map"
   ]
  },
  {
   "cell_type": "code",
   "execution_count": 2,
   "metadata": {},
   "outputs": [
    {
     "name": "stdout",
     "output_type": "stream",
     "text": [
      "[-3.960363, 40.775827]\n",
      "(-3.9720803438876744, 40.76672048172069, -3.948642456445934, 40.78493234977533)\n"
     ]
    }
   ],
   "source": [
    "from pyproj import Proj, transform\n",
    "\n",
    "print(coordinates)\n",
    "inProj = Proj(init='epsg:4326')\n",
    "outProj = Proj(init='epsg:25830')\n",
    "x, y = transform(inProj, outProj, coordinates[0], coordinates[1])\n",
    "\n",
    "width = 2000\n",
    "\n",
    "minx = x - width / 2\n",
    "maxx = x + width / 2\n",
    "miny = y - width / 2\n",
    "maxy = y + width / 2\n",
    "\n",
    "inProj = Proj(init='epsg:25830')\n",
    "outProj = Proj(init='epsg:4258')\n",
    "\n",
    "a, b = transform(inProj, outProj, minx, miny)\n",
    "c, d = transform(inProj, outProj, maxx, maxy)\n",
    "\n",
    "bbox = (a, b, c, d)\n",
    "print(bbox)"
   ]
  },
  {
   "cell_type": "code",
   "execution_count": 14,
   "metadata": {},
   "outputs": [
    {
     "data": {
      "text/plain": [
       "['GEOTIFFINT16', 'ArcGrid', 'png', 'GEOTIFF_RGB']"
      ]
     },
     "metadata": {},
     "output_type": "display_data"
    },
    {
     "data": {
      "text/plain": [
       "<function BufferedWriter.close>"
      ]
     },
     "execution_count": 14,
     "metadata": {},
     "output_type": "execute_result"
    }
   ],
   "source": [
    "from owslib.wcs import WebCoverageService\n",
    "wcs = WebCoverageService('https://servicios.idee.es/wcs-inspire/mdt',version='1.0.0')\n",
    "\n",
    "crs = wcs['Elevacion25830_5'].boundingboxes[0]['nativeSrs']\n",
    "list(wcs.contents)\n",
    "display(wcs['Elevacion4258_5'].supportedFormats)\n",
    "# content = wcs.getCoverage(identifier='Elevacion25830_5', bbox=bbox, width=400, height=400, crs=crs, format='GEOTIFFINT16')\n",
    "# out = open('prueba.tif','wb')\n",
    "\n",
    "content = wcs.getCoverage(identifier='Elevacion25830_5', bbox=bbox, width=400, height=400, crs=crs, format='application/asc')\n",
    "\n",
    "out = open('../src/images/mdt.asc', 'wb')\n",
    "out.write(content.read())\n",
    "out.close"
   ]
  },
  {
   "cell_type": "code",
   "execution_count": 15,
   "metadata": {},
   "outputs": [],
   "source": [
    "\n",
    "from owslib.wms import WebMapService\n",
    "wms = WebMapService('https://www.ign.es/wms-inspire/mapa-raster', version='1.1.1')\n",
    "list(wms.contents)\n",
    "wms.getOperationByName('GetMap').formatOptions\n",
    "img = wms.getmap( layers=['mtn_rasterizado'],\n",
    "                srs='EPSG:25830',\n",
    "                bbox=(minx, miny, maxx, maxy),\n",
    "                format='image/png',\n",
    "                size=(1024,1024)\n",
    "                )\n",
    "out = open('../src/images/topo.png', 'wb')\n",
    "out.write(img.read())\n",
    "out.close()"
   ]
  },
  {
   "cell_type": "code",
   "execution_count": 10,
   "metadata": {},
   "outputs": [],
   "source": [
    "from owslib.wms import WebMapService\n",
    "wms = WebMapService('https://www.ign.es/wms-inspire/pnoa-ma', version='1.1.1')\n",
    "list(wms.contents)\n",
    "wms.getOperationByName('GetMap').formatOptions\n",
    "img = wms.getmap( layers=['OI.OrthoimageCoverage'],\n",
    "                srs='EPSG:25830',\n",
    "                bbox=(minx, miny, maxx, maxy),\n",
    "                format='image/png',\n",
    "                size=(1024,1024)\n",
    "                )\n",
    "out = open('pnoa.png', 'wb')\n",
    "out.write(img.read())\n",
    "out.close()"
   ]
  },
  {
   "cell_type": "code",
   "execution_count": 5,
   "metadata": {},
   "outputs": [
    {
     "name": "stdout",
     "output_type": "stream",
     "text": [
      "\u001b[K\u001b]0;root@ef59f7124d18: /\u0007root@ef59f7124d18:/# ^C\n",
      "\n",
      "\u001b]0;root@ef59f7124d18: /\u0007root@ef59f7124d18:/# "
     ]
    }
   ],
   "source": [
    "arguments = 'run -it -v /home/nano/firespread/src/images/:/home/nano usdaarsnwrc/katana'\n",
    "!docker {arguments}"
   ]
  }
 ],
 "metadata": {
  "kernelspec": {
   "display_name": "Python 3",
   "language": "python",
   "name": "python3"
  },
  "language_info": {
   "codemirror_mode": {
    "name": "ipython",
    "version": 3
   },
   "file_extension": ".py",
   "mimetype": "text/x-python",
   "name": "python",
   "nbconvert_exporter": "python",
   "pygments_lexer": "ipython3",
   "version": "3.7.6"
  }
 },
 "nbformat": 4,
 "nbformat_minor": 4
}
