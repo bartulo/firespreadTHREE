{
 "cells": [
  {
   "cell_type": "code",
   "execution_count": 46,
   "metadata": {},
   "outputs": [
    {
     "data": {
      "application/vnd.jupyter.widget-view+json": {
       "model_id": "a548098ee3c046babe79f0e3781c725b",
       "version_major": 2,
       "version_minor": 0
      },
      "text/plain": [
       "Map(center=[40, -2], controls=(ZoomControl(options=['position', 'zoom_in_text', 'zoom_in_title', 'zoom_out_tex…"
      ]
     },
     "metadata": {},
     "output_type": "display_data"
    },
    {
     "name": "stdout",
     "output_type": "stream",
     "text": [
      "{'type': 'Feature', 'properties': {'style': {'stroke': True, 'color': '#efed69', 'weight': 4, 'opacity': 0.5, 'fill': True, 'fillColor': '#000000', 'fillOpacity': 1, 'clickable': True, 'radius': 1403.208532678574}}, 'geometry': {'type': 'Point', 'coordinates': [-3.062659, 40.03154]}}\n",
      "{'type': 'Feature', 'properties': {'style': {'stroke': True, 'color': '#efed69', 'weight': 4, 'opacity': 0.5, 'fill': True, 'fillColor': '#000000', 'fillOpacity': 1, 'clickable': True, 'radius': 2703.838847236119}}, 'geometry': {'type': 'Point', 'coordinates': [-4.293383, 40.626183]}}\n"
     ]
    }
   ],
   "source": [
    "from ipyleaflet import Map, basemaps, DrawControl\n",
    "map = Map(\n",
    "    center = ( 40, -2 ), \n",
    "    zoom = 8,\n",
    "    basemap = basemaps.OpenTopoMap\n",
    ")\n",
    "\n",
    "draw_control = DrawControl()\n",
    "\n",
    "draw_control.circle = {\n",
    "    \"shapeOptions\": {\n",
    "        \"fillColor\": \"#000000\",\n",
    "        \"color\": \"#efed69\",\n",
    "        \"fillOpacity\": 1.0\n",
    "    }\n",
    "}\n",
    "\n",
    "coordinates = []\n",
    "\n",
    "def store_point( self, action, geo_json):\n",
    "    global coordinates\n",
    "    print(geo_json)\n",
    "    coordinates = geo_json['geometry']['coordinates']\n",
    "    \n",
    "draw_control.on_draw(store_point)\n",
    "\n",
    "map.add_control(draw_control)\n",
    "\n",
    "map"
   ]
  },
  {
   "cell_type": "code",
   "execution_count": 1,
   "metadata": {},
   "outputs": [
    {
     "name": "stdout",
     "output_type": "stream",
     "text": [
      "[-4.293383, 40.626183]\n",
      "(-4.305028459134179, 40.61704350257892, -4.281734366598346, 40.63532135685948)\n"
     ]
    }
   ],
   "source": [
    "from pyproj import Proj, transform\n",
    "\n",
    "coordinates = [-4.293383, 40.626183]\n",
    "print(coordinates)\n",
    "inProj = Proj(init='epsg:4326')\n",
    "outProj = Proj(init='epsg:25830')\n",
    "x, y = transform(inProj, outProj, coordinates[0], coordinates[1])\n",
    "\n",
    "width = 2000\n",
    "\n",
    "minx = x - width / 2\n",
    "maxx = x + width / 2\n",
    "miny = y - width / 2\n",
    "maxy = y + width / 2\n",
    "\n",
    "inProj = Proj(init='epsg:25830')\n",
    "outProj = Proj(init='epsg:4258')\n",
    "\n",
    "a, b = transform(inProj, outProj, minx, miny)\n",
    "c, d = transform(inProj, outProj, maxx, maxy)\n",
    "\n",
    "bbox = (a, b, c, d)\n",
    "print(bbox)"
   ]
  },
  {
   "cell_type": "code",
   "execution_count": 65,
   "metadata": {},
   "outputs": [
    {
     "data": {
      "text/plain": [
       "<function BufferedWriter.close>"
      ]
     },
     "execution_count": 65,
     "metadata": {},
     "output_type": "execute_result"
    }
   ],
   "source": [
    "from owslib.wcs import WebCoverageService\n",
    "wcs = WebCoverageService('https://servicios.idee.es/wcs-inspire/mdt',version='1.0.0')\n",
    "\n",
    "crs = wcs['Elevacion4258_5'].boundingboxes[0]['nativeSrs']\n",
    "\n",
    "# content = wcs.getCoverage(identifier='Elevacion4258_5', bbox=bbox, width=400, height=400, crs=crs, format='image/png')\n",
    "# out = open('prueba.png', 'wb')\n",
    "content = wcs.getCoverage(identifier='Elevacion4258_5', bbox=bbox, width=400, height=400, crs=crs, format='application/asc')\n",
    "# print(content.read().splitlines()[405].split()[399])\n",
    "\n",
    "out = open('pr.asc', 'wb')\n",
    "out.write(content.read())\n",
    "out.close"
   ]
  },
  {
   "cell_type": "code",
   "execution_count": 3,
   "metadata": {},
   "outputs": [],
   "source": [
    "\n",
    "from owslib.wms import WebMapService\n",
    "wms = WebMapService('https://www.ign.es/wms-inspire/mapa-raster', version='1.1.1')\n",
    "list(wms.contents)\n",
    "wms.getOperationByName('GetMap').formatOptions\n",
    "img = wms.getmap( layers=['mtn_rasterizado'],\n",
    "                srs='EPSG:25830',\n",
    "                bbox=(minx, miny, maxx, maxy),\n",
    "                format='image/png',\n",
    "                size=(1024,1024)\n",
    "                )\n",
    "out = open('orto.png', 'wb')\n",
    "out.write(img.read())\n",
    "out.close()"
   ]
  },
  {
   "cell_type": "code",
   "execution_count": 4,
   "metadata": {},
   "outputs": [],
   "source": [
    "from owslib.wms import WebMapService\n",
    "wms = WebMapService('https://www.ign.es/wms-inspire/pnoa-ma', version='1.1.1')\n",
    "list(wms.contents)\n",
    "wms.getOperationByName('GetMap').formatOptions\n",
    "img = wms.getmap( layers=['OI.OrthoimageCoverage'],\n",
    "                srs='EPSG:25830',\n",
    "                bbox=(minx, miny, maxx, maxy),\n",
    "                format='image/png',\n",
    "                size=(1024,1024)\n",
    "                )\n",
    "out = open('pnoa.png', 'wb')\n",
    "out.write(img.read())\n",
    "out.close()"
   ]
  }
 ],
 "metadata": {
  "kernelspec": {
   "display_name": "Python 3",
   "language": "python",
   "name": "python3"
  },
  "language_info": {
   "codemirror_mode": {
    "name": "ipython",
    "version": 3
   },
   "file_extension": ".py",
   "mimetype": "text/x-python",
   "name": "python",
   "nbconvert_exporter": "python",
   "pygments_lexer": "ipython3",
   "version": "3.7.6"
  }
 },
 "nbformat": 4,
 "nbformat_minor": 4
}
